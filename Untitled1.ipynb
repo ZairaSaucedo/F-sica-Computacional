{
 "cells": [
  {
   "cell_type": "code",
   "execution_count": 1,
   "id": "d950f439-1e36-48ce-8d67-d2980d9c9781",
   "metadata": {},
   "outputs": [],
   "source": [
    "from pylab import *\n",
    "from scipy.sparse import *"
   ]
  },
  {
   "cell_type": "code",
   "execution_count": 2,
   "id": "35e390e5-e7cd-4b7d-8fc8-d9b2281d6ddb",
   "metadata": {},
   "outputs": [
    {
     "ename": "NameError",
     "evalue": "name 'a' is not defined",
     "output_type": "error",
     "traceback": [
      "\u001b[0;31m---------------------------------------------------------------------------\u001b[0m",
      "\u001b[0;31mNameError\u001b[0m                                 Traceback (most recent call last)",
      "Cell \u001b[0;32mIn[2], line 1\u001b[0m\n\u001b[0;32m----> 1\u001b[0m a\u001b[38;5;241m.\u001b[39mtorray()\u001b[38;5;241m*\u001b[39mA2\u001b[38;5;241m.\u001b[39mtorray()\n",
      "\u001b[0;31mNameError\u001b[0m: name 'a' is not defined"
     ]
    }
   ],
   "source": [
    "a.torray()*A2.torray()"
   ]
  },
  {
   "cell_type": "code",
   "execution_count": null,
   "id": "7c722fe7-f97f-4ea3-8595-0c6f78736118",
   "metadata": {},
   "outputs": [],
   "source": [
    "A3=identy(5)\n",
    "A3"
   ]
  },
  {
   "cell_type": "code",
   "execution_count": null,
   "id": "98022fa5-32e9-4e08-90ff-a224c909d11f",
   "metadata": {},
   "outputs": [],
   "source": []
  },
  {
   "cell_type": "code",
   "execution_count": null,
   "id": "c9c28d5d-bc35-4e9c-9b37-1c33c2754451",
   "metadata": {},
   "outputs": [],
   "source": [
    "def Mat_A(x_in,r):\n",
    "    N = len(x_in)\n",
    "    A = zeros((N,N))\n",
    "    for i in range(N-1):\n",
    "        A[i,i] = 2*(1+r)\n",
    "        A[i,i+1] = -r #diagonal superior\n",
    "        A[i+1,i] = -r #diagonal inferior\n",
    "    A[-1,-1] = 2*(1+r)\n",
    "    return A\n",
    "\n"
   ]
  },
  {
   "cell_type": "code",
   "execution_count": null,
   "id": "825b093d-ef8b-4487-818c-fe32a50d2da4",
   "metadata": {},
   "outputs": [],
   "source": [
    "x = linspace(0,1,5)\n",
    "\n",
    "A_normal= Mat_A(x[1:-1],1)\n",
    "A_normal"
   ]
  },
  {
   "cell_type": "code",
   "execution_count": null,
   "id": "5bcb2787-ee90-477b-8057-14d404113a79",
   "metadata": {},
   "outputs": [],
   "source": [
    "A_sparse = csr_matrix(A_normal)\n",
    "A_sparse"
   ]
  },
  {
   "cell_type": "code",
   "execution_count": null,
   "id": "5b4189f1-5a30-42b2-a1fa-57bdd16881ef",
   "metadata": {},
   "outputs": [],
   "source": []
  },
  {
   "cell_type": "code",
   "execution_count": null,
   "id": "736fc433-d249-4752-872f-d0c9557d061b",
   "metadata": {},
   "outputs": [],
   "source": [
    "A_diags=diags([-1,4,1],[-1,0,1], shape=(3,3))\n",
    "A_diags.toarray()"
   ]
  },
  {
   "cell_type": "code",
   "execution_count": null,
   "id": "2db66632-500e-45f4-9cd7-5cd046c62eaf",
   "metadata": {},
   "outputs": [],
   "source": [
    "def Mat_A(x_in,r):\n",
    "    N = len(x_in)\n",
    "    A = diags([-r,2*(1+r),-r],[-1,0,1], shape=(N,N))\n",
    "\n",
    "    return A"
   ]
  },
  {
   "cell_type": "code",
   "execution_count": null,
   "id": "4b6e20f3-3512-4b8b-8cc4-b4670292441d",
   "metadata": {},
   "outputs": [],
   "source": [
    "x = linspace(0,1,9)\n",
    "A_ds= Mat_A(x[1:-1],0.5)\n",
    "A_ds"
   ]
  },
  {
   "cell_type": "code",
   "execution_count": null,
   "id": "6419f722-3f1a-45dc-9083-5ce0292f2799",
   "metadata": {},
   "outputs": [],
   "source": [
    "A_ds.toarray()"
   ]
  },
  {
   "cell_type": "code",
   "execution_count": null,
   "id": "d36885e3-20bd-4c1e-be99-ce0dcfc72f1e",
   "metadata": {},
   "outputs": [],
   "source": [
    "                                                                                                                                                                                                                                  inv(cscr_matrix(A_ds))                                                                                                                                                                                "
   ]
  },
  {
   "cell_type": "code",
   "execution_count": null,
   "id": "ff8ce2b7-92dd-4145-92e7-edcec5bc7e08",
   "metadata": {},
   "outputs": [],
   "source": []
  },
  {
   "cell_type": "code",
   "execution_count": null,
   "id": "00c3e2d9-edfb-4751-afb3-c477fd3de707",
   "metadata": {},
   "outputs": [],
   "source": []
  }
 ],
 "metadata": {
  "kernelspec": {
   "display_name": "Python 3 (ipykernel)",
   "language": "python",
   "name": "python3"
  },
  "language_info": {
   "codemirror_mode": {
    "name": "ipython",
    "version": 3
   },
   "file_extension": ".py",
   "mimetype": "text/x-python",
   "name": "python",
   "nbconvert_exporter": "python",
   "pygments_lexer": "ipython3",
   "version": "3.11.7"
  }
 },
 "nbformat": 4,
 "nbformat_minor": 5
}
