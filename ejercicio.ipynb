{
 "cells": [
  {
   "cell_type": "code",
   "execution_count": null,
   "id": "9163e522-e7d1-428d-aa89-d038fcfb8dc8",
   "metadata": {},
   "outputs": [],
   "source": []
  },
  {
   "cell_type": "markdown",
   "id": "dd23d93b-a97d-4db5-86c5-8b386de32be5",
   "metadata": {},
   "source": [
    "### ejercicio similar tarea examen "
   ]
  },
  {
   "cell_type": "code",
   "execution_count": 1,
   "id": "10fa3924-afea-4f7e-a7b0-3613297533e4",
   "metadata": {
    "tags": []
   },
   "outputs": [],
   "source": [
    "from  pylab  import *"
   ]
  },
  {
   "cell_type": "code",
   "execution_count": 2,
   "id": "4f718eb4-0340-4171-92c7-5a65fea7b678",
   "metadata": {
    "tags": []
   },
   "outputs": [],
   "source": [
    "def drev1(x,f):\n",
    "    h=x[1]-x[0]\n",
    "    return (f[2]-f[0]) /2*h "
   ]
  },
  {
   "cell_type": "code",
   "execution_count": 3,
   "id": "4e6b74bb-4d17-4513-851d-c826b3bf6ce5",
   "metadata": {
    "tags": []
   },
   "outputs": [
    {
     "name": "stdout",
     "output_type": "stream",
     "text": [
      "0.8414709848078965 0.5403023058681398 -0.8414709848078965\n"
     ]
    }
   ],
   "source": [
    "print(sin(1), cos(1),-sin(1))"
   ]
  },
  {
   "cell_type": "code",
   "execution_count": 6,
   "id": "1a5d2870-80b9-4a5b-a483-460c6a11f263",
   "metadata": {
    "tags": []
   },
   "outputs": [
    {
     "data": {
      "text/plain": [
       "5.4029330087473394e-05"
      ]
     },
     "execution_count": 6,
     "metadata": {},
     "output_type": "execute_result"
    }
   ],
   "source": [
    "delta=0.01\n",
    "punto=1\n",
    "pts= arange(punto-delta,punto+2*delta, delta)\n",
    "f=sin(pts)\n",
    "drev1(pts,f)"
   ]
  },
  {
   "cell_type": "code",
   "execution_count": null,
   "id": "344370cb-b410-4f0b-b367-41f932b23a29",
   "metadata": {},
   "outputs": [],
   "source": []
  },
  {
   "cell_type": "code",
   "execution_count": null,
   "id": "0605ac49-9839-442b-80d6-e152adf55d4b",
   "metadata": {},
   "outputs": [],
   "source": []
  },
  {
   "cell_type": "code",
   "execution_count": 20,
   "id": "1e8edea2-aea4-41c4-b28a-df62798767e7",
   "metadata": {
    "tags": []
   },
   "outputs": [
    {
     "name": "stdout",
     "output_type": "stream",
     "text": [
      "[5.486807157963019e-05, 5.4029330087473394e-05, 5.318518570733237e-05]\n",
      "-8.414429361489083e-09\n",
      "0.8414709763934671\n"
     ]
    },
    {
     "data": {
      "text/plain": [
       "(array([0.98, 0.99, 1.  , 1.01, 1.02]),\n",
       " array([0.83049737, 0.83602598, 0.84147098, 0.84683184, 0.85210802]))"
      ]
     },
     "execution_count": 20,
     "metadata": {},
     "output_type": "execute_result"
    }
   ],
   "source": [
    "delta=0.01\n",
    "punto=1\n",
    "pts= arange(punto-2*delta,punto+2*delta, delta)\n",
    "\n",
    "df=[drev1(pts[0:3],sin(pts[0:3])), drev1(pts[1:4],sin(pts[1:4])),\n",
    "   drev1(pts[2:5],sin(pts[2:5])), ]\n",
    "print(df)\n",
    "seg_num=drev1(pts[1:4],df)\n",
    "print(seg_num)\n",
    "print(abs(seg_num+sin(1)))\n",
    "pts,sin(pts)"
   ]
  },
  {
   "cell_type": "code",
   "execution_count": 11,
   "id": "2a622102-06f6-4572-aa1b-179dcd77d490",
   "metadata": {
    "tags": []
   },
   "outputs": [
    {
     "data": {
      "text/plain": [
       "array([1.  , 1.01, 1.02])"
      ]
     },
     "execution_count": 11,
     "metadata": {},
     "output_type": "execute_result"
    }
   ],
   "source": [
    "pts[2:5]"
   ]
  },
  {
   "cell_type": "code",
   "execution_count": 16,
   "id": "0ea94394-4094-4929-ae6c-4712eb833a72",
   "metadata": {
    "tags": []
   },
   "outputs": [],
   "source": [
    "def drev2(x,f):\n",
    "    h=x[1]-x[0]\n",
    "    return (f[2]+f[0]-2*f[1]) /(h**2) "
   ]
  },
  {
   "cell_type": "code",
   "execution_count": 17,
   "id": "0883bddd-6ac7-4e4e-a127-1fe875e57fa9",
   "metadata": {
    "tags": []
   },
   "outputs": [
    {
     "data": {
      "text/plain": [
       "-0.8414639725717861"
      ]
     },
     "execution_count": 17,
     "metadata": {},
     "output_type": "execute_result"
    }
   ],
   "source": [
    "delta=0.01\n",
    "punto=1\n",
    "pts= arange(punto-delta,punto+delta, delta)\n",
    "f=sin(pts)\n",
    "drev2(pts,f)"
   ]
  },
  {
   "cell_type": "code",
   "execution_count": null,
   "id": "aba19a23-74cb-4f78-a319-d580cf7acab9",
   "metadata": {},
   "outputs": [],
   "source": []
  }
 ],
 "metadata": {
  "kernelspec": {
   "display_name": "Python 3 (ipykernel)",
   "language": "python",
   "name": "python3"
  },
  "language_info": {
   "codemirror_mode": {
    "name": "ipython",
    "version": 3
   },
   "file_extension": ".py",
   "mimetype": "text/x-python",
   "name": "python",
   "nbconvert_exporter": "python",
   "pygments_lexer": "ipython3",
   "version": "3.11.5"
  }
 },
 "nbformat": 4,
 "nbformat_minor": 5
}
