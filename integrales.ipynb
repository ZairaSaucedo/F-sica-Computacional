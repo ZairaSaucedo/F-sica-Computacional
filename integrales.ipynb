{
 "cells": [
  {
   "cell_type": "code",
   "execution_count": 12,
   "id": "e6f258c3-1d43-47f7-bf4f-e543619b07fe",
   "metadata": {},
   "outputs": [],
   "source": [
    "from pylab import *"
   ]
  },
  {
   "cell_type": "markdown",
   "id": "cb14ff94-8290-4aff-8d61-eed888999624",
   "metadata": {
    "tags": []
   },
   "source": [
    "$$\n",
    "\\int_{x_i -h} ^{x_i+h} f(x)dx = \\frac{1}{3}(f_{i+1} +4 f_i + f_{i-1})h\n",
    "$$\n",
    "Si la partición es impar, la integral de $x_0$ a $x_1$ es:\n",
    "$$\n",
    "\\int_{x_0} ^{x_1} f(x)dx =  \\frac{h}{48} ( 23 f_0 + 26f_1 - 4f_2 + 6f_3 - 3f_4)\n",
    "$$"
   ]
  },
  {
   "cell_type": "code",
   "execution_count": 42,
   "id": "d8f7f6ed-e90c-47c1-927d-da7ecd5c9ed2",
   "metadata": {},
   "outputs": [],
   "source": [
    "def integra_h3(x,f_x):\n",
    "    int_val = 0 \n",
    "    h = x[1] - x[0]\n",
    "    N = len(x)\n",
    "    if N%2 == 0:\n",
    "        ini = 2\n",
    "        int_val = (h/48)*( 23*f_x[0] + 26*f_x[1] - 4*f_x[2] + 6*f_x[3] - 3*f_x[4] )\n",
    "    else:\n",
    "        ini = 1\n",
    "    for i in range(ini,N,2):\n",
    "        int_val +=  (f_x[i+1] + 4*f_x[i] + f_x[i-1])*h/3\n",
    "    return int_val"
   ]
  },
  {
   "cell_type": "code",
   "execution_count": 48,
   "id": "42e0bdc0-ca00-4fb2-91d2-196e434404b4",
   "metadata": {},
   "outputs": [
    {
     "data": {
      "text/plain": [
       "3.1415950251288947"
      ]
     },
     "execution_count": 48,
     "metadata": {},
     "output_type": "execute_result"
    }
   ],
   "source": [
    "x = linspace(0,2*pi,100)\n",
    "f_ejem = (sin(x))**2\n",
    "integra_h3(x,f_ejem)"
   ]
  },
  {
   "cell_type": "code",
   "execution_count": 65,
   "id": "618fc9f1-c038-4b94-9641-e433b0936f9a",
   "metadata": {},
   "outputs": [
    {
     "name": "stdout",
     "output_type": "stream",
     "text": [
      "Punto final =  100.00000000000009 Valor de la integral =  4.605173443223729\n",
      "Punto final =  1000.0000000000009 Valor de la integral =  6.907758536217841\n",
      "Punto final =  10000.00000000001 Valor de la integral =  9.21034362921195\n",
      "Punto final =  100000.00000000009 Valor de la integral =  11.512928722206555\n",
      "Punto final =  1000000.0000000009 Valor de la integral =  13.81551381519929\n",
      "Punto final =  10000000.00000001 Valor de la integral =  16.11809890819023\n"
     ]
    }
   ],
   "source": [
    "for i in range(2,8):\n",
    "    x=arange(1,10**i +0.1,0.1)\n",
    "    f_x = 1/x\n",
    "    print('Punto final = ',x[-1], 'Valor de la integral = ', integra_h3(x,f_x))"
   ]
  },
  {
   "cell_type": "code",
   "execution_count": 66,
   "id": "f3ccc068-5651-43bd-a704-5f34839091ca",
   "metadata": {},
   "outputs": [
    {
     "data": {
      "text/plain": [
       "16.11809565095832"
      ]
     },
     "execution_count": 66,
     "metadata": {},
     "output_type": "execute_result"
    }
   ],
   "source": [
    "log(10000000.00000001)"
   ]
  },
  {
   "cell_type": "code",
   "execution_count": 64,
   "id": "1166fa20-b94b-461a-916b-9ec9114ac2b5",
   "metadata": {},
   "outputs": [
    {
     "name": "stdout",
     "output_type": "stream",
     "text": [
      "Punto final =  100.0 Valor de la integral =  0.9900000000039644\n",
      "Punto final =  1000.0 Valor de la integral =  0.9990000378916674\n",
      "Punto final =  10000.0 Valor de la integral =  1.0001020371561884\n",
      "Punto final =  100000.0 Valor de la integral =  1.1130496520636763\n",
      "Punto final =  1000000.0 Valor de la integral =  4.929057188366979\n",
      "Punto final =  10000000.0 Valor de la integral =  47.932605660122235\n"
     ]
    }
   ],
   "source": [
    "for i in range(2,8):\n",
    "    x=linspace(1,10**i,100000)\n",
    "    f_x = 1/x**2\n",
    "    print('Punto final = ',x[-1], 'Valor de la integral = ', integra_h3(x,f_x))"
   ]
  },
  {
   "cell_type": "code",
   "execution_count": null,
   "id": "9489e51a-e094-49b5-8c52-b644609782d4",
   "metadata": {},
   "outputs": [],
   "source": []
  }
 ],
 "metadata": {
  "kernelspec": {
   "display_name": "Python 3 (ipykernel)",
   "language": "python",
   "name": "python3"
  },
  "language_info": {
   "codemirror_mode": {
    "name": "ipython",
    "version": 3
   },
   "file_extension": ".py",
   "mimetype": "text/x-python",
   "name": "python",
   "nbconvert_exporter": "python",
   "pygments_lexer": "ipython3",
   "version": "3.9.15"
  }
 },
 "nbformat": 4,
 "nbformat_minor": 5
}
